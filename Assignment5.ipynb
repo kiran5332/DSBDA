{
 "cells": [
  {
   "cell_type": "code",
   "execution_count": 2,
   "id": "bd665d5d",
   "metadata": {},
   "outputs": [],
   "source": [
    "import pandas as pd\n",
    "import numpy as np\n",
    "import matplotlib.pyplot as plt"
   ]
  },
  {
   "cell_type": "code",
   "execution_count": 3,
   "id": "45e0a889",
   "metadata": {},
   "outputs": [],
   "source": [
    "df = pd.read_csv(\"Iris.csv\")"
   ]
  },
  {
   "cell_type": "code",
   "execution_count": 4,
   "id": "45cdfc46",
   "metadata": {},
   "outputs": [
    {
     "name": "stdout",
     "output_type": "stream",
     "text": [
      "<class 'pandas.core.frame.DataFrame'>\n",
      "RangeIndex: 150 entries, 0 to 149\n",
      "Data columns (total 6 columns):\n",
      " #   Column         Non-Null Count  Dtype  \n",
      "---  ------         --------------  -----  \n",
      " 0   Id             150 non-null    int64  \n",
      " 1   SepalLengthCm  150 non-null    float64\n",
      " 2   SepalWidthCm   150 non-null    float64\n",
      " 3   PetalLengthCm  150 non-null    float64\n",
      " 4   PetalWidthCm   150 non-null    float64\n",
      " 5   Species        150 non-null    object \n",
      "dtypes: float64(4), int64(1), object(1)\n",
      "memory usage: 7.2+ KB\n"
     ]
    }
   ],
   "source": [
    "df.info()"
   ]
  },
  {
   "cell_type": "code",
   "execution_count": 25,
   "id": "1d79ad72",
   "metadata": {},
   "outputs": [],
   "source": [
    "sepalLengthCm = df[\"SepalLengthCm\"]"
   ]
  },
  {
   "cell_type": "code",
   "execution_count": 26,
   "id": "5f624c89",
   "metadata": {},
   "outputs": [
    {
     "data": {
      "text/plain": [
       "Text(0, 0.5, 'Sepal Length (cm)')"
      ]
     },
     "execution_count": 26,
     "metadata": {},
     "output_type": "execute_result"
    },
    {
     "data": {
      "image/png": "[encoded data removed]",
      "text/plain": [
       "<Figure size 640x480 with 1 Axes>"
      ]
     },
     "metadata": {},
     "output_type": "display_data"
    }
   ],
   "source": [
    "plt.hist(sepalLengthCm, bins=50,  color=\"red\")\n",
    "plt.title(\"Histogram of Sepal Length\")\n",
    "plt.xlabel(\"Frequency\")\n",
    "plt.ylabel(\"Sepal Length (cm)\")"
   ]
  },
  {
   "cell_type": "code",
   "execution_count": 7,
   "id": "3c0b234d",
   "metadata": {},
   "outputs": [
    {
     "data": {
      "text/html": [
       "<div>\n",
       "<style scoped>\n",
       "    .dataframe tbody tr th:only-of-type {\n",
       "        vertical-align: middle;\n",
       "    }\n",
       "\n",
       "    .dataframe tbody tr th {\n",
       "        vertical-align: top;\n",
       "    }\n",
       "\n",
       "    .dataframe thead th {\n",
       "        text-align: right;\n",
       "    }\n",
       "</style>\n",
       "<table border=\"1\" class=\"dataframe\">\n",
       "  <thead>\n",
       "    <tr style=\"text-align: right;\">\n",
       "      <th></th>\n",
       "      <th>Id</th>\n",
       "      <th>SepalLengthCm</th>\n",
       "      <th>SepalWidthCm</th>\n",
       "      <th>PetalLengthCm</th>\n",
       "      <th>PetalWidthCm</th>\n",
       "      <th>Species</th>\n",
       "    </tr>\n",
       "  </thead>\n",
       "  <tbody>\n",
       "    <tr>\n",
       "      <th>0</th>\n",
       "      <td>1</td>\n",
       "      <td>5.1</td>\n",
       "      <td>3.5</td>\n",
       "      <td>1.4</td>\n",
       "      <td>0.2</td>\n",
       "      <td>Iris-setosa</td>\n",
       "    </tr>\n",
       "    <tr>\n",
       "      <th>1</th>\n",
       "      <td>2</td>\n",
       "      <td>4.9</td>\n",
       "      <td>3.0</td>\n",
       "      <td>1.4</td>\n",
       "      <td>0.2</td>\n",
       "      <td>Iris-setosa</td>\n",
       "    </tr>\n",
       "    <tr>\n",
       "      <th>2</th>\n",
       "      <td>3</td>\n",
       "      <td>4.7</td>\n",
       "      <td>3.2</td>\n",
       "      <td>1.3</td>\n",
       "      <td>0.2</td>\n",
       "      <td>Iris-setosa</td>\n",
       "    </tr>\n",
       "    <tr>\n",
       "      <th>3</th>\n",
       "      <td>4</td>\n",
       "      <td>4.6</td>\n",
       "      <td>3.1</td>\n",
       "      <td>1.5</td>\n",
       "      <td>0.2</td>\n",
       "      <td>Iris-setosa</td>\n",
       "    </tr>\n",
       "    <tr>\n",
       "      <th>4</th>\n",
       "      <td>5</td>\n",
       "      <td>5.0</td>\n",
       "      <td>3.6</td>\n",
       "      <td>1.4</td>\n",
       "      <td>0.2</td>\n",
       "      <td>Iris-setosa</td>\n",
       "    </tr>\n",
       "    <tr>\n",
       "      <th>...</th>\n",
       "      <td>...</td>\n",
       "      <td>...</td>\n",
       "      <td>...</td>\n",
       "      <td>...</td>\n",
       "      <td>...</td>\n",
       "      <td>...</td>\n",
       "    </tr>\n",
       "    <tr>\n",
       "      <th>145</th>\n",
       "      <td>146</td>\n",
       "      <td>6.7</td>\n",
       "      <td>3.0</td>\n",
       "      <td>5.2</td>\n",
       "      <td>2.3</td>\n",
       "      <td>Iris-virginica</td>\n",
       "    </tr>\n",
       "    <tr>\n",
       "      <th>146</th>\n",
       "      <td>147</td>\n",
       "      <td>6.3</td>\n",
       "      <td>2.5</td>\n",
       "      <td>5.0</td>\n",
       "      <td>1.9</td>\n",
       "      <td>Iris-virginica</td>\n",
       "    </tr>\n",
       "    <tr>\n",
       "      <th>147</th>\n",
       "      <td>148</td>\n",
       "      <td>6.5</td>\n",
       "      <td>3.0</td>\n",
       "      <td>5.2</td>\n",
       "      <td>2.0</td>\n",
       "      <td>Iris-virginica</td>\n",
       "    </tr>\n",
       "    <tr>\n",
       "      <th>148</th>\n",
       "      <td>149</td>\n",
       "      <td>6.2</td>\n",
       "      <td>3.4</td>\n",
       "      <td>5.4</td>\n",
       "      <td>2.3</td>\n",
       "      <td>Iris-virginica</td>\n",
       "    </tr>\n",
       "    <tr>\n",
       "      <th>149</th>\n",
       "      <td>150</td>\n",
       "      <td>5.9</td>\n",
       "      <td>3.0</td>\n",
       "      <td>5.1</td>\n",
       "      <td>1.8</td>\n",
       "      <td>Iris-virginica</td>\n",
       "    </tr>\n",
       "  </tbody>\n",
       "</table>\n",
       "<p>150 rows × 6 columns</p>\n",
       "</div>"
      ],
      "text/plain": [
       "      Id  SepalLengthCm  SepalWidthCm  PetalLengthCm  PetalWidthCm  \\\n",
       "0      1            5.1           3.5            1.4           0.2   \n",
       "1      2            4.9           3.0            1.4           0.2   \n",
       "2      3            4.7           3.2            1.3           0.2   \n",
       "3      4            4.6           3.1            1.5           0.2   \n",
       "4      5            5.0           3.6            1.4           0.2   \n",
       "..   ...            ...           ...            ...           ...   \n",
       "145  146            6.7           3.0            5.2           2.3   \n",
       "146  147            6.3           2.5            5.0           1.9   \n",
       "147  148            6.5           3.0            5.2           2.0   \n",
       "148  149            6.2           3.4            5.4           2.3   \n",
       "149  150            5.9           3.0            5.1           1.8   \n",
       "\n",
       "            Species  \n",
       "0       Iris-setosa  \n",
       "1       Iris-setosa  \n",
       "2       Iris-setosa  \n",
       "3       Iris-setosa  \n",
       "4       Iris-setosa  \n",
       "..              ...  \n",
       "145  Iris-virginica  \n",
       "146  Iris-virginica  \n",
       "147  Iris-virginica  \n",
       "148  Iris-virginica  \n",
       "149  Iris-virginica  \n",
       "\n",
       "[150 rows x 6 columns]"
      ]
     },
     "execution_count": 7,
     "metadata": {},
     "output_type": "execute_result"
    }
   ],
   "source": [
    "df"
   ]
  },
  {
   "cell_type": "code",
   "execution_count": 12,
   "id": "e06d4ffd",
   "metadata": {},
   "outputs": [],
   "source": [
    "sepalWidthCm = df[\"SepalWidthCm\"]\n",
    "petalLengthCm = df[\"PetalLengthCm\"]\n",
    "petalWidthCm = df[\"PetalWidthCm\"]"
   ]
  },
  {
   "cell_type": "code",
   "execution_count": 21,
   "id": "e7159d5a",
   "metadata": {},
   "outputs": [
    {
     "data": {
      "text/plain": [
       "Text(0, 0.5, 'Sepal Width (cm)')"
      ]
     },
     "execution_count": 21,
     "metadata": {},
     "output_type": "execute_result"
    },
    {
     "data": {
      "image/png": "[encoded data removed]",
      "text/plain": [
       "<Figure size 640x480 with 1 Axes>"
      ]
     },
     "metadata": {},
     "output_type": "display_data"
    }
   ],
   "source": [
    "plt.hist(sepalWidthCm, bins=20, color=\"blue\")\n",
    "plt.title(\"Histogram of Sepal Width\")\n",
    "plt.xlabel(\"Frequency\")\n",
    "plt.ylabel(\"Sepal Width (cm)\")"
   ]
  },
  {
   "cell_type": "code",
   "execution_count": 23,
   "id": "93d23690",
   "metadata": {},
   "outputs": [
    {
     "data": {
      "text/plain": [
       "Text(0, 0.5, 'Length in cm')"
      ]
     },
     "execution_count": 23,
     "metadata": {},
     "output_type": "execute_result"
    },
    {
     "data": {
      "image/png": "[encoded data removed]",
      "text/plain": [
       "<Figure size 640x480 with 1 Axes>"
      ]
     },
     "metadata": {},
     "output_type": "display_data"
    }
   ],
   "source": [
    "plt.hist(petalLengthCm, bins=40, color=\"green\")\n",
    "plt.title(\"Histogram of Sepal Length\")\n",
    "plt.xlabel(\"Sepal Length\")\n",
    "plt.ylabel(\"Length in cm\")"
   ]
  },
  {
   "cell_type": "code",
   "execution_count": 24,
   "id": "bb741c76",
   "metadata": {},
   "outputs": [
    {
     "data": {
      "text/plain": [
       "Text(0, 0.5, 'Petal Width in cm')"
      ]
     },
     "execution_count": 24,
     "metadata": {},
     "output_type": "execute_result"
    },
    {
     "data": {
      "image/png": "[encoded data removed]",
      "text/plain": [
       "<Figure size 640x480 with 1 Axes>"
      ]
     },
     "metadata": {},
     "output_type": "display_data"
    }
   ],
   "source": [
    "plt.hist(petalWidthCm, bins=20, color=\"yellow\")\n",
    "plt.title(\"Histogram of Petal Width\")\n",
    "plt.xlabel(\"Frequency\")\n",
    "plt.ylabel(\"Petal Width in cm\")"
   ]
  },
  {
   "cell_type": "code",
   "execution_count": 31,
   "id": "f38dee4c",
   "metadata": {},
   "outputs": [
    {
     "data": {
      "text/plain": [
       "{'whiskers': [<matplotlib.lines.Line2D at 0x24598a9bac0>,\n",
       "  <matplotlib.lines.Line2D at 0x24598a9bd90>,\n",
       "  <matplotlib.lines.Line2D at 0x24598aaaeb0>,\n",
       "  <matplotlib.lines.Line2D at 0x24598ab81c0>,\n",
       "  <matplotlib.lines.Line2D at 0x24598ac32e0>,\n",
       "  <matplotlib.lines.Line2D at 0x24598ac35b0>,\n",
       "  <matplotlib.lines.Line2D at 0x24598ad1700>,\n",
       "  <matplotlib.lines.Line2D at 0x24598ad19d0>],\n",
       " 'caps': [<matplotlib.lines.Line2D at 0x24598aaa0a0>,\n",
       "  <matplotlib.lines.Line2D at 0x24598aaa370>,\n",
       "  <matplotlib.lines.Line2D at 0x24598ab8490>,\n",
       "  <matplotlib.lines.Line2D at 0x24598ab8760>,\n",
       "  <matplotlib.lines.Line2D at 0x24598ac3880>,\n",
       "  <matplotlib.lines.Line2D at 0x24598ac3b50>,\n",
       "  <matplotlib.lines.Line2D at 0x24598ad1ca0>,\n",
       "  <matplotlib.lines.Line2D at 0x24598ad1f70>],\n",
       " 'boxes': [<matplotlib.lines.Line2D at 0x24598a9b7f0>,\n",
       "  <matplotlib.lines.Line2D at 0x24598aaabe0>,\n",
       "  <matplotlib.lines.Line2D at 0x24598ab8fd0>,\n",
       "  <matplotlib.lines.Line2D at 0x24598ad1430>],\n",
       " 'medians': [<matplotlib.lines.Line2D at 0x24598aaa640>,\n",
       "  <matplotlib.lines.Line2D at 0x24598ab8a30>,\n",
       "  <matplotlib.lines.Line2D at 0x24598ac3e50>,\n",
       "  <matplotlib.lines.Line2D at 0x24598adf280>],\n",
       " 'fliers': [<matplotlib.lines.Line2D at 0x24598aaa910>,\n",
       "  <matplotlib.lines.Line2D at 0x24598ab8d00>,\n",
       "  <matplotlib.lines.Line2D at 0x24598ad1160>,\n",
       "  <matplotlib.lines.Line2D at 0x24598adf550>],\n",
       " 'means': []}"
      ]
     },
     "execution_count": 31,
     "metadata": {},
     "output_type": "execute_result"
    },
    {
     "data": {
      "image/png": "[encoded data removed]",
      "text/plain": [
       "<Figure size 500x500 with 1 Axes>"
      ]
     },
     "metadata": {},
     "output_type": "display_data"
    }
   ],
   "source": [
    "fig = plt.figure(figsize=(5,5))\n",
    "plt.boxplot([sepalLengthCm, sepalWidthCm, petalLengthCm, petalWidthCm])"
   ]
  },
  {
   "cell_type": "markdown",
   "id": "c43442a9",
   "metadata": {},
   "source": [
    "OUTLIERS"
   ]
  },
  {
   "cell_type": "markdown",
   "id": "56f0787f",
   "metadata": {},
   "source": [
    "1.) OUTLIERS IN SEPAL LENGTH (CM)"
   ]
  },
  {
   "cell_type": "code",
   "execution_count": 50,
   "id": "c99a4ce2",
   "metadata": {},
   "outputs": [
    {
     "name": "stdout",
     "output_type": "stream",
     "text": [
      "Quartile 1:  5.1\n",
      "Quartile 3:  6.4\n",
      "Inter Quartile Range:  1.3000000000000007\n",
      "Lower Limit is:  3.1499999999999986\n",
      "Upper Limit is:  8.350000000000001\n",
      "Outliers in the dataset are:  []\n"
     ]
    }
   ],
   "source": [
    "Q1 = np.percentile(df[\"SepalLengthCm\"], 25, interpolation=\"midpoint\")\n",
    "Q3 = np.percentile(df[\"SepalLengthCm\"], 75, interpolation=\"midpoint\")\n",
    "IQR = Q3 - Q1\n",
    "print(\"Quartile 1: \",Q1)\n",
    "print(\"Quartile 3: \",Q3)\n",
    "print(\"Inter Quartile Range: \",IQR)\n",
    "\n",
    "low_limit = Q1 - 1.5 * IQR\n",
    "up_limit = Q3 + 1.5 * IQR\n",
    "print(\"Lower Limit is: \",low_limit)\n",
    "print(\"Upper Limit is: \", up_limit)\n",
    "\n",
    "outliers = []\n",
    "for x in df[\"SepalLengthCm\"]:\n",
    "    if((x>up_limit) or (x<low_limit)):\n",
    "        outliers.append(x)\n",
    "    \n",
    "print(\"Outliers in the dataset are: \", outliers)\n",
    "        "
   ]
  },
  {
   "cell_type": "markdown",
   "id": "2657ab5f",
   "metadata": {},
   "source": [
    "2.) OUTLIERs IN SEPAL WIDTH (CM)"
   ]
  },
  {
   "cell_type": "code",
   "execution_count": 49,
   "id": "3f55d2ea",
   "metadata": {},
   "outputs": [
    {
     "name": "stdout",
     "output_type": "stream",
     "text": [
      "Quartile 1:  5.1\n",
      "Quartile 3:  6.4\n",
      "Inter Quartile Range:  1.3000000000000007\n",
      "Lower Limit is:  3.1499999999999986\n",
      "Upper Limit is:  8.350000000000001\n",
      "Outliers in the Sepal Width (Cm) are:  [3.0, 3.1, 2.9, 3.1, 3.0, 3.0, 3.0, 3.1, 3.1, 3.1, 3.0, 2.3, 3.0, 3.1, 2.3, 2.8, 2.8, 2.4, 2.9, 2.7, 2.0, 3.0, 2.2, 2.9, 2.9, 3.1, 3.0, 2.7, 2.2, 2.5, 2.8, 2.5, 2.8, 2.9, 3.0, 2.8, 3.0, 2.9, 2.6, 2.4, 2.4, 2.7, 2.7, 3.0, 3.1, 2.3, 3.0, 2.5, 2.6, 3.0, 2.6, 2.3, 2.7, 3.0, 2.9, 2.9, 2.5, 2.8, 2.7, 3.0, 2.9, 3.0, 3.0, 2.5, 2.9, 2.5, 2.7, 3.0, 2.5, 2.8, 3.0, 2.6, 2.2, 2.8, 2.8, 2.7, 2.8, 3.0, 2.8, 3.0, 2.8, 2.8, 2.8, 2.6, 3.0, 3.1, 3.0, 3.1, 3.1, 3.1, 2.7, 3.0, 2.5, 3.0, 3.0]\n"
     ]
    }
   ],
   "source": [
    "Q1_SepalWidthCm = np.percentile(df[\"SepalWidthCm\"], 25, interpolation=\"midpoint\")\n",
    "Q3_SepalWidthCm = np.percentile(df[\"SepalWidthCm\"], 75, interpolation=\"midpoint\")\n",
    "IQR = Q3 - Q1\n",
    "print(\"Quartile 1: \",Q1)\n",
    "print(\"Quartile 3: \",Q3)\n",
    "print(\"Inter Quartile Range: \",IQR)\n",
    "\n",
    "low_limit = Q1 - 1.5 * IQR\n",
    "up_limit = Q3 + 1.5 * IQR\n",
    "print(\"Lower Limit is: \",low_limit)\n",
    "print(\"Upper Limit is: \", up_limit)\n",
    "\n",
    "outliers = []\n",
    "for x in df[\"SepalWidthCm\"]:\n",
    "    if((x>up_limit) or (x<low_limit)):\n",
    "        outliers.append(x)\n",
    "    \n",
    "print(\"Outliers in the Sepal Width (Cm) are: \", outliers)\n",
    "        "
   ]
  },
  {
   "cell_type": "markdown",
   "id": "e9272265",
   "metadata": {},
   "source": [
    "3.) OUTLIERS IN PETAL LENGTH (CM)"
   ]
  },
  {
   "cell_type": "code",
   "execution_count": 48,
   "id": "3c384385",
   "metadata": {},
   "outputs": [
    {
     "name": "stdout",
     "output_type": "stream",
     "text": [
      "Quartile 1:  5.1\n",
      "Quartile 3:  6.4\n",
      "Inter Quartile Range:  1.3000000000000007\n",
      "Lower Limit is:  3.1499999999999986\n",
      "Upper Limit is:  8.350000000000001\n",
      "Outliers in the Petal Width (Cm) are:  [1.4, 1.4, 1.3, 1.5, 1.4, 1.7, 1.4, 1.5, 1.4, 1.5, 1.5, 1.6, 1.4, 1.1, 1.2, 1.5, 1.3, 1.4, 1.7, 1.5, 1.7, 1.5, 1.0, 1.7, 1.9, 1.6, 1.6, 1.5, 1.4, 1.6, 1.6, 1.5, 1.5, 1.4, 1.5, 1.2, 1.3, 1.5, 1.3, 1.5, 1.3, 1.3, 1.3, 1.6, 1.9, 1.4, 1.6, 1.4, 1.5, 1.4, 3.0]\n"
     ]
    }
   ],
   "source": [
    "Q1_PetalLengthCm = np.percentile(df[\"PetalLengthCm\"], 25, interpolation=\"midpoint\")\n",
    "Q3_PetalLengthCm = np.percentile(df[\"PetalLengthCm\"], 75, interpolation=\"midpoint\")\n",
    "IQR = Q3 - Q1\n",
    "print(\"Quartile 1: \",Q1)\n",
    "print(\"Quartile 3: \",Q3)\n",
    "print(\"Inter Quartile Range: \",IQR)\n",
    "\n",
    "low_limit = Q1 - 1.5 * IQR\n",
    "up_limit = Q3 + 1.5 * IQR\n",
    "print(\"Lower Limit is: \",low_limit)\n",
    "print(\"Upper Limit is: \", up_limit)\n",
    "\n",
    "outliers = []\n",
    "for x in df[\"PetalLengthCm\"]:\n",
    "    if((x>up_limit) or (x<low_limit)):\n",
    "        outliers.append(x)\n",
    "    \n",
    "print(\"Outliers in the Petal Width (Cm) are: \", outliers)"
   ]
  },
  {
   "cell_type": "markdown",
   "id": "4e066612",
   "metadata": {},
   "source": [
    "4.) OUTLIERS IN PETAL WIDTH (CM)"
   ]
  },
  {
   "cell_type": "code",
   "execution_count": 51,
   "id": "86239a7a",
   "metadata": {},
   "outputs": [
    {
     "name": "stdout",
     "output_type": "stream",
     "text": [
      "Quartile 1:  5.1\n",
      "Quartile 3:  6.4\n",
      "Inter Quartile Range:  1.3000000000000007\n",
      "Lower Limit is:  3.1499999999999986\n",
      "Upper Limit is:  8.350000000000001\n",
      "Outliers in the Petal Width (Cm) are:  [0.2, 0.2, 0.2, 0.2, 0.2, 0.4, 0.3, 0.2, 0.2, 0.1, 0.2, 0.2, 0.1, 0.1, 0.2, 0.4, 0.4, 0.3, 0.3, 0.3, 0.2, 0.4, 0.2, 0.5, 0.2, 0.2, 0.4, 0.2, 0.2, 0.2, 0.2, 0.4, 0.1, 0.2, 0.1, 0.2, 0.2, 0.1, 0.2, 0.2, 0.3, 0.3, 0.2, 0.6, 0.4, 0.3, 0.2, 0.2, 0.2, 0.2, 1.4, 1.5, 1.5, 1.3, 1.5, 1.3, 1.6, 1.0, 1.3, 1.4, 1.0, 1.5, 1.0, 1.4, 1.3, 1.4, 1.5, 1.0, 1.5, 1.1, 1.8, 1.3, 1.5, 1.2, 1.3, 1.4, 1.4, 1.7, 1.5, 1.0, 1.1, 1.0, 1.2, 1.6, 1.5, 1.6, 1.5, 1.3, 1.3, 1.3, 1.2, 1.4, 1.2, 1.0, 1.3, 1.2, 1.3, 1.3, 1.1, 1.3, 2.5, 1.9, 2.1, 1.8, 2.2, 2.1, 1.7, 1.8, 1.8, 2.5, 2.0, 1.9, 2.1, 2.0, 2.4, 2.3, 1.8, 2.2, 2.3, 1.5, 2.3, 2.0, 2.0, 1.8, 2.1, 1.8, 1.8, 1.8, 2.1, 1.6, 1.9, 2.0, 2.2, 1.5, 1.4, 2.3, 2.4, 1.8, 1.8, 2.1, 2.4, 2.3, 1.9, 2.3, 2.5, 2.3, 1.9, 2.0, 2.3, 1.8]\n"
     ]
    }
   ],
   "source": [
    "Q1_PetalWidthCm = np.percentile(df[\"PetalWidthCm\"], 25, interpolation=\"midpoint\")\n",
    "Q3_PetalWidthCm = np.percentile(df[\"PetalWidthCm\"], 75, interpolation=\"midpoint\")\n",
    "IQR = Q3 - Q1\n",
    "print(\"Quartile 1: \",Q1)\n",
    "print(\"Quartile 3: \",Q3)\n",
    "print(\"Inter Quartile Range: \",IQR)\n",
    "\n",
    "low_limit = Q1 - 1.5 * IQR\n",
    "up_limit = Q3 + 1.5 * IQR\n",
    "print(\"Lower Limit is: \",low_limit)\n",
    "print(\"Upper Limit is: \", up_limit)\n",
    "\n",
    "outliers = []\n",
    "for x in df[\"PetalWidthCm\"]:\n",
    "    if((x>up_limit) or (x<low_limit)):\n",
    "        outliers.append(x)\n",
    "    \n",
    "print(\"Outliers in the Petal Width (Cm) are: \", outliers)"
   ]
  },
  {
   "cell_type": "code",
   "execution_count": null,
   "id": "8171a9cc",
   "metadata": {},
   "outputs": [],
   "source": []
  }
 ],
 "metadata": {
  "kernelspec": {
   "display_name": "Python 3 (ipykernel)",
   "language": "python",
   "name": "python3"
  },
  "language_info": {
   "codemirror_mode": {
    "name": "ipython",
    "version": 3
   },
   "file_extension": ".py",
   "mimetype": "text/x-python",
   "name": "python",
   "nbconvert_exporter": "python",
   "pygments_lexer": "ipython3",
   "version": "3.10.9"
  }
 },
 "nbformat": 4,
 "nbformat_minor": 5
}
