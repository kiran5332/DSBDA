{
 "cells": [
  {
   "cell_type": "code",
   "execution_count": 98,
   "id": "09d6d4da",
   "metadata": {},
   "outputs": [
    {
     "name": "stdout",
     "output_type": "stream",
     "text": [
      "   Roll No    Name   Marks\n",
      "0        1   Rahul   -20.0\n",
      "1        2   Rohan    19.0\n",
      "2        3  Shruti    50.0\n",
      "3        4   Parth    70.0\n",
      "4        5     NaN    80.0\n",
      "5        6     NaN    40.0\n",
      "6        7   Priti     NaN\n",
      "7        8    Geet    75.0\n",
      "8        9  Anjali    30.0\n",
      "9       10  Sanjay  1000.0\n"
     ]
    }
   ],
   "source": [
    "import pandas as pd\n",
    "import numpy as np\n",
    "data = {\"Roll No\": [1,2,3,4,5,6,7,8,9,10],\n",
    "       \"Name\": [\"Rahul\", \"Rohan\", \"Shruti\", \"Parth\", np.NaN, np.NaN, \"Priti\", \"Geet\", \"Anjali\", \"Sanjay\"],\n",
    "        \"Marks\": [-20, 19, 50, 70,80,40, np.NaN, 75, 30, 1000]\n",
    "       }\n",
    "\n",
    "df = pd.DataFrame(data)\n",
    "print(df)"
   ]
  },
  {
   "cell_type": "code",
   "execution_count": 99,
   "id": "06104f52",
   "metadata": {},
   "outputs": [
    {
     "data": {
      "text/html": [
       "<div>\n",
       "<style scoped>\n",
       "    .dataframe tbody tr th:only-of-type {\n",
       "        vertical-align: middle;\n",
       "    }\n",
       "\n",
       "    .dataframe tbody tr th {\n",
       "        vertical-align: top;\n",
       "    }\n",
       "\n",
       "    .dataframe thead th {\n",
       "        text-align: right;\n",
       "    }\n",
       "</style>\n",
       "<table border=\"1\" class=\"dataframe\">\n",
       "  <thead>\n",
       "    <tr style=\"text-align: right;\">\n",
       "      <th></th>\n",
       "      <th>Roll No</th>\n",
       "      <th>Name</th>\n",
       "      <th>Marks</th>\n",
       "    </tr>\n",
       "  </thead>\n",
       "  <tbody>\n",
       "    <tr>\n",
       "      <th>0</th>\n",
       "      <td>False</td>\n",
       "      <td>False</td>\n",
       "      <td>False</td>\n",
       "    </tr>\n",
       "    <tr>\n",
       "      <th>1</th>\n",
       "      <td>False</td>\n",
       "      <td>False</td>\n",
       "      <td>False</td>\n",
       "    </tr>\n",
       "    <tr>\n",
       "      <th>2</th>\n",
       "      <td>False</td>\n",
       "      <td>False</td>\n",
       "      <td>False</td>\n",
       "    </tr>\n",
       "    <tr>\n",
       "      <th>3</th>\n",
       "      <td>False</td>\n",
       "      <td>False</td>\n",
       "      <td>False</td>\n",
       "    </tr>\n",
       "    <tr>\n",
       "      <th>4</th>\n",
       "      <td>False</td>\n",
       "      <td>True</td>\n",
       "      <td>False</td>\n",
       "    </tr>\n",
       "    <tr>\n",
       "      <th>5</th>\n",
       "      <td>False</td>\n",
       "      <td>True</td>\n",
       "      <td>False</td>\n",
       "    </tr>\n",
       "    <tr>\n",
       "      <th>6</th>\n",
       "      <td>False</td>\n",
       "      <td>False</td>\n",
       "      <td>True</td>\n",
       "    </tr>\n",
       "    <tr>\n",
       "      <th>7</th>\n",
       "      <td>False</td>\n",
       "      <td>False</td>\n",
       "      <td>False</td>\n",
       "    </tr>\n",
       "    <tr>\n",
       "      <th>8</th>\n",
       "      <td>False</td>\n",
       "      <td>False</td>\n",
       "      <td>False</td>\n",
       "    </tr>\n",
       "    <tr>\n",
       "      <th>9</th>\n",
       "      <td>False</td>\n",
       "      <td>False</td>\n",
       "      <td>False</td>\n",
       "    </tr>\n",
       "  </tbody>\n",
       "</table>\n",
       "</div>"
      ],
      "text/plain": [
       "   Roll No   Name  Marks\n",
       "0    False  False  False\n",
       "1    False  False  False\n",
       "2    False  False  False\n",
       "3    False  False  False\n",
       "4    False   True  False\n",
       "5    False   True  False\n",
       "6    False  False   True\n",
       "7    False  False  False\n",
       "8    False  False  False\n",
       "9    False  False  False"
      ]
     },
     "execution_count": 99,
     "metadata": {},
     "output_type": "execute_result"
    }
   ],
   "source": [
    "df.isnull()"
   ]
  },
  {
   "cell_type": "code",
   "execution_count": 100,
   "id": "5a38c774",
   "metadata": {},
   "outputs": [
    {
     "name": "stdout",
     "output_type": "stream",
     "text": [
      "149.33333333333334\n"
     ]
    }
   ],
   "source": [
    "mean_marks = df[\"Marks\"].mean()\n",
    "print(mean_marks)"
   ]
  },
  {
   "cell_type": "code",
   "execution_count": 101,
   "id": "1719ee8c",
   "metadata": {},
   "outputs": [
    {
     "name": "stdout",
     "output_type": "stream",
     "text": [
      "   Roll No    Name        Marks\n",
      "0        1   Rahul   -20.000000\n",
      "1        2   Rohan    19.000000\n",
      "2        3  Shruti    50.000000\n",
      "3        4   Parth    70.000000\n",
      "4        5     NaN    80.000000\n",
      "5        6     NaN    40.000000\n",
      "6        7   Priti   149.333333\n",
      "7        8    Geet    75.000000\n",
      "8        9  Anjali    30.000000\n",
      "9       10  Sanjay  1000.000000\n"
     ]
    }
   ],
   "source": [
    "pd.isnull(df[\"Name\"])\n",
    "df[\"Marks\"].fillna(mean_marks, inplace=True)\n",
    "print(df)"
   ]
  },
  {
   "cell_type": "code",
   "execution_count": 102,
   "id": "febe43c6",
   "metadata": {},
   "outputs": [
    {
     "name": "stdout",
     "output_type": "stream",
     "text": [
      "   Roll No     Name        Marks\n",
      "0        1    Rahul   -20.000000\n",
      "1        2    Rohan    19.000000\n",
      "2        3   Shruti    50.000000\n",
      "3        4    Parth    70.000000\n",
      "4        5  No Name    80.000000\n",
      "5        6  No Name    40.000000\n",
      "6        7    Priti   149.333333\n",
      "7        8     Geet    75.000000\n",
      "8        9   Anjali    30.000000\n",
      "9       10   Sanjay  1000.000000\n"
     ]
    }
   ],
   "source": [
    "pd.isnull(df[\"Name\"])\n",
    "df[\"Name\"].fillna(\"No Name\", inplace=True)\n",
    "print(df)"
   ]
  },
  {
   "cell_type": "markdown",
   "id": "1c8cfd33",
   "metadata": {},
   "source": [
    "OUTLIERS"
   ]
  },
  {
   "cell_type": "code",
   "execution_count": 103,
   "id": "87147545",
   "metadata": {},
   "outputs": [
    {
     "name": "stdout",
     "output_type": "stream",
     "text": [
      "Quartile 1:  35.0\n",
      "Quartile 3:  77.5\n",
      "Inter Quartile Range:  42.5\n"
     ]
    }
   ],
   "source": [
    "Q1 = np.percentile(df[\"Marks\"], 25, interpolation=\"midpoint\")\n",
    "Q3 = np.percentile(df[\"Marks\"], 75, interpolation=\"midpoint\")\n",
    "IQR = Q3 - Q1\n",
    "print(\"Quartile 1: \",Q1)\n",
    "print(\"Quartile 3: \",Q3)\n",
    "print(\"Inter Quartile Range: \",IQR)"
   ]
  },
  {
   "cell_type": "code",
   "execution_count": 104,
   "id": "dec3f14e",
   "metadata": {},
   "outputs": [
    {
     "name": "stdout",
     "output_type": "stream",
     "text": [
      "Lower Limit is:  -28.75\n",
      "Upper Limit is:  141.25\n"
     ]
    }
   ],
   "source": [
    "low_limit = Q1 - 1.5 * IQR\n",
    "up_limit = Q3 + 1.5 * IQR\n",
    "print(\"Lower Limit is: \",low_limit)\n",
    "print(\"Upper Limit is: \", up_limit)"
   ]
  },
  {
   "cell_type": "code",
   "execution_count": 105,
   "id": "0e87958d",
   "metadata": {},
   "outputs": [
    {
     "name": "stdout",
     "output_type": "stream",
     "text": [
      "Outliers in the dataset are:  [149.33333333333334, 1000.0]\n"
     ]
    }
   ],
   "source": [
    "outliers = []\n",
    "for x in df[\"Marks\"]:\n",
    "    if((x>up_limit) or (x<low_limit)):\n",
    "        outliers.append(x)\n",
    "    \n",
    "print(\"Outliers in the dataset are: \", outliers)\n",
    "        "
   ]
  },
  {
   "cell_type": "markdown",
   "id": "fd6388fa",
   "metadata": {},
   "source": [
    "DATA TRANSFORMATION"
   ]
  },
  {
   "cell_type": "code",
   "execution_count": 106,
   "id": "1157fd90",
   "metadata": {},
   "outputs": [
    {
     "name": "stdout",
     "output_type": "stream",
     "text": [
      "   Roll No     Name        Marks\n",
      "0        1    Rahul   -15.000000\n",
      "1        2    Rohan    24.000000\n",
      "2        3   Shruti    55.000000\n",
      "3        4    Parth    75.000000\n",
      "4        5  No Name    85.000000\n",
      "5        6  No Name    45.000000\n",
      "6        7    Priti   154.333333\n",
      "7        8     Geet    80.000000\n",
      "8        9   Anjali    35.000000\n",
      "9       10   Sanjay  1005.000000\n"
     ]
    }
   ],
   "source": [
    "df[\"Marks\"] = df[\"Marks\"].transform(lambda x : x+5)\n",
    "print(df)"
   ]
  },
  {
   "cell_type": "code",
   "execution_count": null,
   "id": "ff7af2af",
   "metadata": {},
   "outputs": [],
   "source": []
  }
 ],
 "metadata": {
  "kernelspec": {
   "display_name": "Python 3 (ipykernel)",
   "language": "python",
   "name": "python3"
  },
  "language_info": {
   "codemirror_mode": {
    "name": "ipython",
    "version": 3
   },
   "file_extension": ".py",
   "mimetype": "text/x-python",
   "name": "python",
   "nbconvert_exporter": "python",
   "pygments_lexer": "ipython3",
   "version": "3.10.9"
  }
 },
 "nbformat": 4,
 "nbformat_minor": 5
}
